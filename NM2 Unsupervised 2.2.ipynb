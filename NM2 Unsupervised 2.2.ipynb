{
 "cells": [
  {
   "cell_type": "markdown",
   "id": "691eaf33",
   "metadata": {},
   "source": [
    "# © Explore Data Science Academy\n",
    "\n",
    "Honour Code\n",
    "We {NM_2_Avengers}, confirm - by submitting this document - that the solutions in this notebook are a result of my own work and that I abide by the EDSA honour code.\n",
    "\n",
    "Non-compliance with the honour code constitutes a material breach of contract.\n"
   ]
  },
  {
   "cell_type": "markdown",
   "id": "21ed8107",
   "metadata": {},
   "source": [
    "# Table of Contents\n",
    "\n",
    "<a href=#one>1. Introduction</a>\n",
    "\n",
    "<a href=#two>2. Problem Statement</a>\n",
    "\n",
    "<a href=#three>3. Importing Packages</a>\n",
    "\n",
    "<a href=#four>4. Loading Data</a>\n",
    "\n",
    "<a href=#five>5. Data Preprocessing</a>\n",
    "\n",
    "<a href=#six>6. Exploratory Data Analysis (EDA)</a>\n",
    "\n",
    "<a href=#seven>7. Feature Engineering</a>\n",
    "\n",
    "<a href=#eight>8. Modeling</a>\n",
    "\n",
    "<a href=#nine>9. Model Performance "
   ]
  },
  {
   "cell_type": "markdown",
   "id": "bb33849b",
   "metadata": {},
   "source": [
    "<a id = \"one\"></a>\n",
    "## 1. Introduction\n",
    "<a href=#cont>Back to Table of Contents</a>"
   ]
  },
  {
   "cell_type": "markdown",
   "id": "466a31a1",
   "metadata": {},
   "source": [
    "If you have ever used a streaming website like Netflix, Showmax, or Youtube, a fter watching a movie, the platform begins suggesting more films and TV series of a similar kind. This is an illustration of a recommendation system. Recommender systems  recognize a user's viewing habits and offer pertinent advice. Recommender systems are economically and socially essential in today's technologically advanced world to enable people to make the best decisions possible regarding the information they consume on a daily basis. This is particularly true in the context of movie recommendations, where clever algorithms may guide viewers toward excellent films among tens of thousands of possibilities.\n",
    "\n",
    "The task is to develop a collaborative filtering or content-based recommendation algorithm that can correctly forecast how a user would evaluate a film they haven't yet seen based on their past preferences.\n",
    "\n",
    "Offering a precise and reliable solution to this problem has enormous economic potential since users will receive personalized suggestions, creating platform affinity for streaming services that make it easiest for their audience to watch."
   ]
  },
  {
   "cell_type": "markdown",
   "id": "0b139505",
   "metadata": {},
   "source": [
    "# TEAM\n",
    "\n",
    "1. THATO RABODIBA\n",
    "2. KOKETSO MAHLANGU\n",
    "3. ZITHULELE MANYATHI\n",
    "4. NONTOKOZO NDLOVU\n",
    "5. THABATHA NOMPOKO\n",
    "6. MINENHLE MAPHUMOLO"
   ]
  },
  {
   "cell_type": "markdown",
   "id": "1c4ae745",
   "metadata": {},
   "source": [
    "<a id = \"two\"></a>\n",
    "## 2. Problem Statement\n",
    "<a href=#cont>Back to Table of Contents</a>"
   ]
  },
  {
   "cell_type": "markdown",
   "id": "29e260fd",
   "metadata": {},
   "source": [
    "The goal is to create a collaborative filtering system or content-based recommendation algorithm that can accurately predict a user's evaluation of a movie they haven't seen based on their past preferences."
   ]
  },
  {
   "cell_type": "code",
   "execution_count": 5,
   "id": "720ac6f3",
   "metadata": {},
   "outputs": [
    {
     "name": "stderr",
     "output_type": "stream",
     "text": [
      "\u001b[1;38;5;39mCOMET INFO:\u001b[0m ---------------------------------------------------------------------------------------\n",
      "\u001b[1;38;5;39mCOMET INFO:\u001b[0m Comet.ml Experiment Summary\n",
      "\u001b[1;38;5;39mCOMET INFO:\u001b[0m ---------------------------------------------------------------------------------------\n",
      "\u001b[1;38;5;39mCOMET INFO:\u001b[0m   Data:\n",
      "\u001b[1;38;5;39mCOMET INFO:\u001b[0m     display_summary_level : 1\n",
      "\u001b[1;38;5;39mCOMET INFO:\u001b[0m     url                   : https://www.comet.com/proudmamatoboys/general/782fb1c9f0ef4a93983e860c224d6881\n",
      "\u001b[1;38;5;39mCOMET INFO:\u001b[0m   Uploads:\n",
      "\u001b[1;38;5;39mCOMET INFO:\u001b[0m     conda-environment-definition : 1\n",
      "\u001b[1;38;5;39mCOMET INFO:\u001b[0m     conda-info                   : 1\n",
      "\u001b[1;38;5;39mCOMET INFO:\u001b[0m     conda-specification          : 1\n",
      "\u001b[1;38;5;39mCOMET INFO:\u001b[0m     environment details          : 1\n",
      "\u001b[1;38;5;39mCOMET INFO:\u001b[0m     filename                     : 1\n",
      "\u001b[1;38;5;39mCOMET INFO:\u001b[0m     git metadata                 : 1\n",
      "\u001b[1;38;5;39mCOMET INFO:\u001b[0m     installed packages           : 1\n",
      "\u001b[1;38;5;39mCOMET INFO:\u001b[0m     notebook                     : 1\n",
      "\u001b[1;38;5;39mCOMET INFO:\u001b[0m     source_code                  : 1\n",
      "\u001b[1;38;5;39mCOMET INFO:\u001b[0m \n",
      "\u001b[1;38;5;214mCOMET WARNING:\u001b[0m As you are running in a Jupyter environment, you will need to call `experiment.end()` when finished to ensure all metrics and code are logged before exiting.\n",
      "\u001b[1;38;5;39mCOMET INFO:\u001b[0m Experiment is live on comet.com https://www.comet.com/proudmamatoboys/general/174b73fff0f94153a9e629ded038dcbe\n",
      "\n"
     ]
    }
   ],
   "source": [
    "# import comet_ml at the top of your file\n",
    "from comet_ml import Experiment\n",
    "\n",
    "\n",
    "# Setting the API key (saved as environment variable)\n",
    "experiment = Experiment(\n",
    "  api_key=\"h2d2lfNX7NTFfv4141F24E74C\",\n",
    "  project_name=\"general\",\n",
    "  workspace=\"proudmamatoboys\",\n",
    ")"
   ]
  },
  {
   "cell_type": "markdown",
   "id": "d2d68bf1",
   "metadata": {},
   "source": [
    "<a id=\"three\"></a>\n",
    "## 3. Importing Packages\n",
    "<a href=#cont>Back to Table of Contents</a>\n",
    "\n",
    "---\n",
    "    \n",
    "| ⚡ Description: Importing Packages ⚡ |\n",
    "| :--------------------------- |\n",
    "| In this section you are required to import, and briefly discuss, the libraries that will be used throughout your analysis and modelling. |"
   ]
  },
  {
   "cell_type": "code",
   "execution_count": null,
   "id": "643934e9",
   "metadata": {},
   "outputs": [],
   "source": [
    "\n",
    "\n",
    "# This Python 3 environment comes with many helpful analytics libraries installed\n",
    "# It is defined by the kaggle/python Docker image: https://github.com/kaggle/docker-python\n",
    "# For example, here's several helpful packages to load\n",
    "\n",
    "# Install packages here\n",
    "# Packages for data processing\n",
    "import numpy as np\n",
    "import pandas as pd\n",
    "import datetime\n",
    "from sklearn import preprocessing\n",
    "from sklearn.datasets import make_blobs\n",
    "from sklearn.preprocessing import StandardScaler\n",
    "from sklearn.feature_extraction.text import TfidfVectorizer\n",
    "from sklearn.metrics.pairwise import cosine_similarity\n",
    "import re\n",
    "from scipy.sparse import csr_matrix\n",
    "import scipy as sp\n",
    "\n",
    "\n",
    "# Packages for visualization\n",
    "import matplotlib.pyplot as plt\n",
    "import seaborn as sns\n",
    "%matplotlib inline\n",
    "\n",
    "\n",
    "# Packages for model evaluation\n",
    "from sklearn.metrics import mean_squared_error\n",
    "from sklearn.metrics import mean_absolute_error\n",
    "from time import time\n",
    "\n",
    "\n",
    "\n",
    "# Input data files are available in the read-only \"../input/\" directory\n",
    "\n",
    "import os\n",
    "for dirname, _, filenames in os.walk('/kaggle/input'):\n",
    "    for filename in filenames:\n",
    "        print(os.path.join(dirname, filename))\n",
    "\n",
    "\n",
    "\n"
   ]
  },
  {
   "cell_type": "markdown",
   "id": "56afcec5",
   "metadata": {},
   "source": [
    "<a id=\"four\"></a>\n",
    "## 4. Loading the Data\n",
    "<a class=\"anchor\" id=\"1.1\"></a>\n",
    "<a href=#cont>Back to Table of Contents</a>\n",
    "\n",
    "---\n",
    "    \n",
    "| ⚡ Description: Loading the data ⚡ |\n",
    "| :--------------------------- |\n",
    "| In this section you are required to load the data from the `df_train` file into a DataFrame. |\n",
    "\n",
    "---"
   ]
  },
  {
   "cell_type": "code",
   "execution_count": null,
   "id": "837e84cb",
   "metadata": {},
   "outputs": [],
   "source": [
    "movies_df = pd.read_csv('movies.csv')\n",
    "gs_df = pd.read_csv('genome_scores.csv')\n",
    "gt_df = pd.read_csv('genome_tags.csv')\n",
    "imdb_df = pd.read_csv('imdb_data.csv')\n",
    "links_df = pd.read_csv('links.csv')\n",
    "tags_df = pd.read_csv('tags.csv')\n",
    "train_df = pd.read_csv('train.csv') \n",
    "test_df = pd.read_csv('test.csv')\n",
    "sample_df = pd.read_csv('sample_submission.csv')"
   ]
  },
  {
   "cell_type": "markdown",
   "id": "e6a5de22",
   "metadata": {},
   "source": [
    "### Brief Description of the Datasets\n",
    "- genome_scores.csv - a score mapping the strength between movies and tag-related properties. Read more here\n",
    "- genome_tags.csv - user assigned tags for genome-related scores\n",
    "- imdb_data.csv - Additional movie metadata scraped from IMDB using the links.csv file.\n",
    "- links.csv - File providing a mapping between a MovieLens ID and associated IMDB and TMDB IDs.\n",
    "- sample_submission.csv - Sample of the submission format for the hackathon.\n",
    "- tags.csv - User assigned for the movies within the dataset.\n",
    "- test.csv - The test split of the dataset. Contains user and movie IDs with no rating data.\n",
    "- train.csv - The training split of the dataset. Contains user and movie IDs with associated rating data."
   ]
  },
  {
   "cell_type": "code",
   "execution_count": null,
   "id": "fb8d2b90",
   "metadata": {},
   "outputs": [],
   "source": [
    "train_df.head()"
   ]
  },
  {
   "cell_type": "code",
   "execution_count": null,
   "id": "8da30828",
   "metadata": {},
   "outputs": [],
   "source": [
    "movies_df.head()"
   ]
  },
  {
   "cell_type": "code",
   "execution_count": null,
   "id": "9c740e06",
   "metadata": {},
   "outputs": [],
   "source": [
    "train_df.shape"
   ]
  },
  {
   "cell_type": "code",
   "execution_count": null,
   "id": "c34f9c26",
   "metadata": {},
   "outputs": [],
   "source": [
    "movies_df.head(1)"
   ]
  },
  {
   "cell_type": "markdown",
   "id": "e6ba7057",
   "metadata": {},
   "source": [
    "# Data Preprocessing"
   ]
  },
  {
   "cell_type": "code",
   "execution_count": null,
   "id": "1d692b71",
   "metadata": {},
   "outputs": [],
   "source": [
    "movies_df.info() # Get concise summary of the movie dataset"
   ]
  },
  {
   "cell_type": "code",
   "execution_count": null,
   "id": "25f72301",
   "metadata": {},
   "outputs": [],
   "source": [
    "movies_df.head() # Get the first 5 observations "
   ]
  },
  {
   "cell_type": "code",
   "execution_count": null,
   "id": "399ae9e4",
   "metadata": {},
   "outputs": [],
   "source": [
    "gt_df.info() # Get concise summary of the Genome_tag Dataframe "
   ]
  },
  {
   "cell_type": "code",
   "execution_count": null,
   "id": "4505b75d",
   "metadata": {},
   "outputs": [],
   "source": [
    "gs_df.info() # Get concise summary of the Genome_score Dataframe "
   ]
  },
  {
   "cell_type": "code",
   "execution_count": null,
   "id": "a6227075",
   "metadata": {},
   "outputs": [],
   "source": [
    "imdb_df.info() # Get concise of imdb database"
   ]
  },
  {
   "cell_type": "code",
   "execution_count": null,
   "id": "a55ac527",
   "metadata": {},
   "outputs": [],
   "source": [
    "imdb_df.head() # Shows the first 5 observations"
   ]
  },
  {
   "cell_type": "code",
   "execution_count": null,
   "id": "a6f2b9a5",
   "metadata": {},
   "outputs": [],
   "source": [
    "train_df.info() # Get the summary of the dataset's metadata"
   ]
  },
  {
   "cell_type": "code",
   "execution_count": null,
   "id": "9c74a6fe",
   "metadata": {},
   "outputs": [],
   "source": [
    "train_df.isnull().sum() # check if there are any null values"
   ]
  },
  {
   "cell_type": "code",
   "execution_count": null,
   "id": "98b21962",
   "metadata": {},
   "outputs": [],
   "source": [
    "train_df.head() # show the first 5 observations "
   ]
  },
  {
   "cell_type": "markdown",
   "id": "a58b1361",
   "metadata": {},
   "source": [
    "# Exploratory Data Analysis¶"
   ]
  },
  {
   "cell_type": "code",
   "execution_count": null,
   "id": "166768ca",
   "metadata": {},
   "outputs": [],
   "source": [
    "# Display summary statistics of numerical features in train data\n",
    "print(train_df.describe())\n",
    "\n",
    "# Visualize the distribution of ratings for each user\n",
    "user_rating_counts = train_df.groupby('userId')['rating'].count()\n",
    "plt.hist(user_rating_counts, bins=50, edgecolor='black')\n",
    "plt.title('Distribution of Ratings Count per User')\n",
    "plt.xlabel('Number of Ratings')\n",
    "plt.ylabel('Frequency')\n",
    "plt.show()"
   ]
  },
  {
   "cell_type": "code",
   "execution_count": null,
   "id": "914760ce",
   "metadata": {},
   "outputs": [],
   "source": [
    "import pandas as pd\n",
    "import matplotlib.pyplot as plt\n",
    "\n",
    "plt.figure(figsize=(8, 6))\n",
    "plt.hist(train_df['rating'], bins=20, color='skyblue', edgecolor='black')\n",
    "plt.title('Distribution of Movie Ratings')\n",
    "plt.xlabel('Rating')\n",
    "plt.ylabel('Frequency')\n",
    "plt.grid(True)\n",
    "plt.show()\n",
    "\n"
   ]
  },
  {
   "cell_type": "code",
   "execution_count": null,
   "id": "f10a25ca",
   "metadata": {},
   "outputs": [],
   "source": [
    "# Visualize distribution of movie genres using a bar plot\n",
    "plt.figure(figsize=(10, 6))\n",
    "genre_counts = train_df['rating'].value_counts().head(10)  \n",
    "genre_counts.plot(kind='bar', color='skyblue')\n",
    "plt.title('Top 10 Movie Genres')\n",
    "plt.xlabel('Genres')\n",
    "plt.ylabel('Count')\n",
    "plt.xticks(rotation=45, ha='right')  \n",
    "plt.tight_layout()\n",
    "plt.show()\n",
    "\n",
    "# Visualize distribution of user-assigned tags using a pie chart\n",
    "plt.figure(figsize=(8, 8))\n",
    "tag_counts = train_df['rating'].value_counts().head(10) \n",
    "tag_counts.plot(kind='pie', autopct='%1.1f%%', colors=['lightgreen', 'lightblue', 'lightcoral', 'lightskyblue', 'lightpink', 'lightyellow', 'lightgrey', 'lightseagreen', 'lightcyan', 'lightsteelblue'])\n",
    "plt.title('Top 10 User-Assigned Tags')\n",
    "plt.ylabel('') \n",
    "plt.tight_layout()\n",
    "plt.show()"
   ]
  },
  {
   "cell_type": "code",
   "execution_count": null,
   "id": "a310498e",
   "metadata": {},
   "outputs": [],
   "source": [
    "print('There are ',train_df[\"userId\"].nunique(), 'users and',train_df.movieId.nunique(),'movies in the database/dataframe')"
   ]
  },
  {
   "cell_type": "code",
   "execution_count": null,
   "id": "e4014ab6",
   "metadata": {},
   "outputs": [],
   "source": [
    "# Create a Dataframe consisting of the users average rating the give per user and number of times they have rated movies\n",
    "train1 = pd.DataFrame(train_df.groupby('userId')['rating'].agg('mean').reset_index())\n",
    "train1_2 = pd.DataFrame(train_df.groupby('userId')['rating'].count().reset_index())\n",
    "# Merge the above to dataframe \n",
    "train1 = train1.merge(train1_2,on='userId',how = 'left')\n",
    "# Rename the columns respectively\n",
    "train1.rename(columns={'rating_x':'avg_rating','rating_y':'number_of_movies'},inplace = True)\n",
    "\n",
    "# Sort the data in descending of the number of movies the user has rated\n",
    "train1 = train1.sort_values('number_of_movies', ascending = False)\n",
    "\n",
    "# Show 5 observations \n",
    "train1.head()"
   ]
  },
  {
   "cell_type": "code",
   "execution_count": null,
   "id": "b109391b",
   "metadata": {},
   "outputs": [],
   "source": [
    "# Initialize the plot with set figure size\n",
    "fig, ax = plt.subplots(1,2,figsize=(20, 10)) \n",
    "\n",
    "# Create a densityplot to visualise the density of the ratings per users\n",
    "sns.kdeplot(ax=ax[0], x='avg_rating', data=train1) \n",
    "ax[0].set_title(\"The average rating of users\",fontsize = 20)\n",
    "\n",
    "# Set the tick labels to appear in non-scientific form\n",
    "plt.ticklabel_format(style='plain', axis='y', useOffset=False) \n",
    "\n",
    "# Create a KDE plot of the rating the users \n",
    "sns.kdeplot(ax=ax[1], x='number_of_movies', data=train1[1:]) \n",
    "ax[1].set_title(\"A Density plot showing the average number of movies watched by the users\",fontsize = 20)\n",
    "    \n",
    "# Show density plot\n",
    "plt.show()"
   ]
  },
  {
   "cell_type": "code",
   "execution_count": null,
   "id": "2c272f0d",
   "metadata": {},
   "outputs": [],
   "source": [
    "# Check for correlation between average rating and the number of the times have the user has watch a movie\n",
    "\n",
    "# Create a scatter plot to visualise \n",
    "sns.regplot(data = train1, y = \"number_of_movies\", x = \"avg_rating\",line_kws={\"color\": \"red\"})\n",
    "\n",
    "# Show the scatterplot\n",
    "plt.show()"
   ]
  },
  {
   "cell_type": "code",
   "execution_count": null,
   "id": "d9e2519f",
   "metadata": {},
   "outputs": [],
   "source": [
    "train_df.rating.value_counts()"
   ]
  },
  {
   "cell_type": "code",
   "execution_count": null,
   "id": "426737f8",
   "metadata": {},
   "outputs": [],
   "source": [
    "# Plotting the graph\n",
    "fig, ax = plt.subplots(figsize=(20, 10)) \n",
    "\n",
    "sns.countplot(ax=ax, x='rating', data=train_df) \n",
    "ax.set_title(\"The number of movies for each ratings\")\n",
    "plt.ticklabel_format(style='plain', axis='y', useOffset=False) \n",
    "\n",
    "# Make the counts appear on the different\n",
    "for p in ax.patches:\n",
    "    ax.annotate('{:.1f}'.format(p.get_height()), (p.get_x()+0.1, p.get_height()+50))\n",
    "    \n",
    "# Show the countplot\n",
    "plt.show()"
   ]
  },
  {
   "cell_type": "code",
   "execution_count": null,
   "id": "cf61bcec",
   "metadata": {},
   "outputs": [],
   "source": [
    "train_movies = train_df.merge(movies_df,on = 'movieId') # Merges the movie and train datasets\n",
    "train_movies.drop(columns=['timestamp'],inplace=True) # Dropping the timestamp column\n",
    "train_movies.head(10) # Shows the first 10 observations"
   ]
  },
  {
   "cell_type": "code",
   "execution_count": null,
   "id": "2383778f",
   "metadata": {},
   "outputs": [],
   "source": [
    "# Create a scatter plot to explore the relationship between movie ratings and user ratings counts\n",
    "plt.figure(figsize=(8, 6))\n",
    "plt.scatter(train_df['rating'],train_df['rating'], color='skyblue', alpha=0.6)\n",
    "plt.title('Relationship between Movie Ratings and User Ratings Counts')\n",
    "plt.xlabel('Movie Ratings')\n",
    "plt.ylabel('User Ratings Counts')\n",
    "plt.grid(True)\n",
    "plt.show()\n"
   ]
  },
  {
   "cell_type": "code",
   "execution_count": null,
   "id": "cf85e243",
   "metadata": {},
   "outputs": [],
   "source": [
    "# Display links data\n",
    "print(links_df.head())\n",
    "\n",
    "# Check for missing values in links data\n",
    "print(links_df.isnull().sum())"
   ]
  },
  {
   "cell_type": "code",
   "execution_count": null,
   "id": "6f3c1592",
   "metadata": {},
   "outputs": [],
   "source": []
  }
 ],
 "metadata": {
  "kernelspec": {
   "display_name": "Python 3 (ipykernel)",
   "language": "python",
   "name": "python3"
  },
  "language_info": {
   "codemirror_mode": {
    "name": "ipython",
    "version": 3
   },
   "file_extension": ".py",
   "mimetype": "text/x-python",
   "name": "python",
   "nbconvert_exporter": "python",
   "pygments_lexer": "ipython3",
   "version": "3.11.5"
  }
 },
 "nbformat": 4,
 "nbformat_minor": 5
}
